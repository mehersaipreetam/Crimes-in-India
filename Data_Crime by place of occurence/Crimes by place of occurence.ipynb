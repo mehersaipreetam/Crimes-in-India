{
 "cells": [
  {
   "cell_type": "markdown",
   "metadata": {},
   "source": [
    "## Crimes explored are Dacoity Robbery, Burglary, Theft in India."
   ]
  },
  {
   "cell_type": "code",
   "execution_count": 1,
   "metadata": {},
   "outputs": [],
   "source": [
    "import pandas as pd\n",
    "import numpy as np\n",
    "import matplotlib.pyplot as plt\n",
    "import seaborn as sns"
   ]
  },
  {
   "cell_type": "code",
   "execution_count": 2,
   "metadata": {},
   "outputs": [],
   "source": [
    "df = pd.read_csv('Data/17_Crime_by_place_of_occurrence_2001_2012.csv')\n",
    "df1 = pd.read_csv('Data/17_Crime_by_place_of_occurrence_2013.csv')"
   ]
  },
  {
   "cell_type": "code",
   "execution_count": 3,
   "metadata": {},
   "outputs": [
    {
     "data": {
      "text/plain": [
       "daman & diu          13\n",
       "jammu & kashmir      12\n",
       "haryana              12\n",
       "manipur              12\n",
       "uttar pradesh        12\n",
       "tamil nadu           12\n",
       "lakshadweep          12\n",
       "andhra pradesh       12\n",
       "delhi                12\n",
       "total (states)       12\n",
       "chhattisgarh         12\n",
       "karnataka            12\n",
       "a & n islands        12\n",
       "total (uts)          12\n",
       "chandigarh           12\n",
       "west bengal          12\n",
       "rajasthan            12\n",
       "puducherry           12\n",
       "madhya pradesh       12\n",
       "sikkim               12\n",
       "odisha               12\n",
       "himachal pradesh     12\n",
       "goa                  12\n",
       "punjab               12\n",
       "kerala               12\n",
       "nagaland             12\n",
       "bihar                12\n",
       "total (all-india)    12\n",
       "gujarat              12\n",
       "maharashtra          12\n",
       "assam                12\n",
       "meghalaya            12\n",
       "jharkhand            12\n",
       "uttarakhand          12\n",
       "mizoram              12\n",
       "d & n haveli         12\n",
       "arunachal pradesh    12\n",
       "tripura              11\n",
       "Name: STATE/UT, dtype: int64"
      ]
     },
     "execution_count": 3,
     "metadata": {},
     "output_type": "execute_result"
    }
   ],
   "source": [
    "df.head(3)\n",
    "df['STATE/UT'] = df['STATE/UT'].str.lower().replace(' ', '')\n",
    "df1['STATE/UT'] = df1['STATE/UT'].str.lower().replace(' ', '')\n",
    "df['STATE/UT'].value_counts()\n",
    "\n",
    "# daman and diu has 13 instead of 12"
   ]
  },
  {
   "cell_type": "code",
   "execution_count": 4,
   "metadata": {},
   "outputs": [
    {
     "data": {
      "text/plain": [
       "meghalaya            1\n",
       "lakshadweep          1\n",
       "karnataka            1\n",
       "madhya pradesh       1\n",
       "tamil nadu           1\n",
       "uttar pradesh        1\n",
       "d&n haveli           1\n",
       "kerala               1\n",
       "andhra pradesh       1\n",
       "haryana              1\n",
       "jammu & kashmir      1\n",
       "chhattisgarh         1\n",
       "total (uts)          1\n",
       "chandigarh           1\n",
       "west bengal          1\n",
       "rajasthan            1\n",
       "delhi ut             1\n",
       "puducherry           1\n",
       "sikkim               1\n",
       "himachal pradesh     1\n",
       "a&n islands          1\n",
       "uttarakhand          1\n",
       "odisha               1\n",
       "daman & diu          1\n",
       "total (state)        1\n",
       "goa                  1\n",
       "punjab               1\n",
       "manipur              1\n",
       "nagaland             1\n",
       "bihar                1\n",
       "tripura              1\n",
       "total (all-india)    1\n",
       "gujarat              1\n",
       "maharashtra          1\n",
       "assam                1\n",
       "mizoram              1\n",
       "jharkhand            1\n",
       "arunachal pradesh    1\n",
       "Name: STATE/UT, dtype: int64"
      ]
     },
     "execution_count": 4,
     "metadata": {},
     "output_type": "execute_result"
    }
   ],
   "source": [
    "df1['STATE/UT'].value_counts()"
   ]
  },
  {
   "cell_type": "code",
   "execution_count": 5,
   "metadata": {},
   "outputs": [],
   "source": [
    "df_final = df.append(df1)"
   ]
  },
  {
   "cell_type": "code",
   "execution_count": 6,
   "metadata": {},
   "outputs": [
    {
     "data": {
      "text/plain": [
       "daman & diu          14\n",
       "jammu & kashmir      13\n",
       "andhra pradesh       13\n",
       "karnataka            13\n",
       "madhya pradesh       13\n",
       "manipur              13\n",
       "uttar pradesh        13\n",
       "tamil nadu           13\n",
       "lakshadweep          13\n",
       "haryana              13\n",
       "himachal pradesh     13\n",
       "chhattisgarh         13\n",
       "total (uts)          13\n",
       "chandigarh           13\n",
       "west bengal          13\n",
       "rajasthan            13\n",
       "puducherry           13\n",
       "odisha               13\n",
       "sikkim               13\n",
       "arunachal pradesh    13\n",
       "mizoram              13\n",
       "uttarakhand          13\n",
       "jharkhand            13\n",
       "meghalaya            13\n",
       "assam                13\n",
       "goa                  13\n",
       "maharashtra          13\n",
       "gujarat              13\n",
       "total (all-india)    13\n",
       "punjab               13\n",
       "kerala               13\n",
       "nagaland             13\n",
       "bihar                13\n",
       "a & n islands        12\n",
       "delhi                12\n",
       "tripura              12\n",
       "total (states)       12\n",
       "d & n haveli         12\n",
       "d&n haveli            1\n",
       "delhi ut              1\n",
       "total (state)         1\n",
       "a&n islands           1\n",
       "Name: STATE/UT, dtype: int64"
      ]
     },
     "execution_count": 6,
     "metadata": {},
     "output_type": "execute_result"
    }
   ],
   "source": [
    "df_final['STATE/UT'].value_counts()"
   ]
  },
  {
   "cell_type": "code",
   "execution_count": 7,
   "metadata": {},
   "outputs": [],
   "source": [
    "## Combining rows\n",
    "df_final = df_final.replace('d&n haveli', 'd & n haveli')\n",
    "df_final = df_final.replace('a & n islands', 'a&n islands')\n",
    "df_final = df_final.replace('delhi ut', 'delhi')\n",
    "df_final = df_final.replace('total (state)', 'total (states)')"
   ]
  },
  {
   "cell_type": "code",
   "execution_count": 8,
   "metadata": {},
   "outputs": [
    {
     "data": {
      "text/plain": [
       "daman & diu          14\n",
       "jammu & kashmir      13\n",
       "total (states)       13\n",
       "madhya pradesh       13\n",
       "manipur              13\n",
       "uttar pradesh        13\n",
       "tamil nadu           13\n",
       "lakshadweep          13\n",
       "andhra pradesh       13\n",
       "delhi                13\n",
       "haryana              13\n",
       "sikkim               13\n",
       "chhattisgarh         13\n",
       "total (uts)          13\n",
       "chandigarh           13\n",
       "west bengal          13\n",
       "rajasthan            13\n",
       "puducherry           13\n",
       "karnataka            13\n",
       "himachal pradesh     13\n",
       "odisha               13\n",
       "a&n islands          13\n",
       "goa                  13\n",
       "punjab               13\n",
       "kerala               13\n",
       "nagaland             13\n",
       "bihar                13\n",
       "total (all-india)    13\n",
       "gujarat              13\n",
       "maharashtra          13\n",
       "assam                13\n",
       "meghalaya            13\n",
       "jharkhand            13\n",
       "uttarakhand          13\n",
       "mizoram              13\n",
       "d & n haveli         13\n",
       "arunachal pradesh    13\n",
       "tripura              12\n",
       "Name: STATE/UT, dtype: int64"
      ]
     },
     "execution_count": 8,
     "metadata": {},
     "output_type": "execute_result"
    }
   ],
   "source": [
    "df_final['STATE/UT'].value_counts()"
   ]
  },
  {
   "cell_type": "code",
   "execution_count": 9,
   "metadata": {},
   "outputs": [],
   "source": [
    "#Daman and diu extra row occurs in 2008\n",
    "\n",
    "temp = df_final[df_final['STATE/UT'] == 'daman & diu'][df_final[df_final['STATE/UT'] == 'daman & diu']['YEAR'] == 2008]\n",
    "df_final.drop(index = temp.index, axis = 0, inplace=True)\n",
    "temp.reset_index(drop = True)\n",
    "list1 = []\n",
    "for r in temp.columns:\n",
    "    list1.append(max(temp.iloc[0][r],temp.iloc[1][r]))\n",
    "df_final = df_final.append(list1)"
   ]
  },
  {
   "cell_type": "code",
   "execution_count": 10,
   "metadata": {},
   "outputs": [
    {
     "data": {
      "text/plain": [
       "jammu & kashmir      13\n",
       "delhi                13\n",
       "karnataka            13\n",
       "madhya pradesh       13\n",
       "manipur              13\n",
       "uttar pradesh        13\n",
       "tamil nadu           13\n",
       "lakshadweep          13\n",
       "andhra pradesh       13\n",
       "total (states)       13\n",
       "odisha               13\n",
       "haryana              13\n",
       "chhattisgarh         13\n",
       "total (uts)          13\n",
       "chandigarh           13\n",
       "west bengal          13\n",
       "rajasthan            13\n",
       "puducherry           13\n",
       "sikkim               13\n",
       "himachal pradesh     13\n",
       "a&n islands          13\n",
       "gujarat              13\n",
       "goa                  13\n",
       "punjab               13\n",
       "kerala               13\n",
       "nagaland             13\n",
       "bihar                13\n",
       "d & n haveli         13\n",
       "total (all-india)    13\n",
       "maharashtra          13\n",
       "assam                13\n",
       "meghalaya            13\n",
       "jharkhand            13\n",
       "uttarakhand          13\n",
       "mizoram              13\n",
       "arunachal pradesh    13\n",
       "tripura              12\n",
       "daman & diu          12\n",
       "Name: STATE/UT, dtype: int64"
      ]
     },
     "execution_count": 10,
     "metadata": {},
     "output_type": "execute_result"
    }
   ],
   "source": [
    "df_final['STATE/UT'].value_counts()"
   ]
  },
  {
   "cell_type": "code",
   "execution_count": 11,
   "metadata": {},
   "outputs": [],
   "source": [
    "cols_to_add = ['TOTAL - Burglary',\n",
    "                'TOTAL - Dacoity',\n",
    "                'TOTAL - Robbery',\n",
    "              'TOTAL - Theft']\n",
    "df_final['TOTAL - Crimes'] = 0\n",
    "for col in cols_to_add:\n",
    "    df_final['TOTAL - Crimes'] = df_final['TOTAL - Crimes'] + df_final[col]"
   ]
  },
  {
   "cell_type": "markdown",
   "metadata": {},
   "source": [
    "#### Trend in all of India"
   ]
  },
  {
   "cell_type": "code",
   "execution_count": 12,
   "metadata": {},
   "outputs": [
    {
     "data": {
      "text/plain": [
       "<AxesSubplot:xlabel='YEAR'>"
      ]
     },
     "execution_count": 12,
     "metadata": {},
     "output_type": "execute_result"
    },
    {
     "data": {
      "image/png": "[encoded data removed]",
      "text/plain": [
       "<Figure size 432x288 with 1 Axes>"
      ]
     },
     "metadata": {
      "needs_background": "light"
     },
     "output_type": "display_data"
    }
   ],
   "source": [
    "to_plot = df_final[df_final['STATE/UT'] == 'total (all-india)'][['YEAR', 'TOTAL - Crimes']]\n",
    "to_plot.index = to_plot['YEAR']\n",
    "to_plot.drop('YEAR', axis = 1, inplace = True)\n",
    "to_plot.plot()"
   ]
  }
 ],
 "metadata": {
  "kernelspec": {
   "display_name": "Python 3",
   "language": "python",
   "name": "python3"
  },
  "language_info": {
   "codemirror_mode": {
    "name": "ipython",
    "version": 3
   },
   "file_extension": ".py",
   "mimetype": "text/x-python",
   "name": "python",
   "nbconvert_exporter": "python",
   "pygments_lexer": "ipython3",
   "version": "3.7.6"
  }
 },
 "nbformat": 4,
 "nbformat_minor": 4
}
